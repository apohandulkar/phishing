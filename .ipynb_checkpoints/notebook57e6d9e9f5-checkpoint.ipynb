{
 "cells": [
  {
   "cell_type": "markdown",
   "metadata": {},
   "source": [
    "Importing Libraries "
   ]
  },
  {
   "cell_type": "code",
   "execution_count": null,
   "metadata": {
    "execution": {
     "iopub.execute_input": "2023-04-16T15:30:30.140519Z",
     "iopub.status.busy": "2023-04-16T15:30:30.140022Z",
     "iopub.status.idle": "2023-04-16T15:30:30.157488Z",
     "shell.execute_reply": "2023-04-16T15:30:30.156444Z",
     "shell.execute_reply.started": "2023-04-16T15:30:30.140477Z"
    }
   },
   "outputs": [],
   "source": [
    "import matplotlib.pyplot as plt\n",
    "%matplotlib inline\n",
    "import seaborn as sns\n",
    "from sklearn import metrics \n",
    "import warnings\n",
    "warnings.filterwarnings('ignore')"
   ]
  },
  {
   "cell_type": "markdown",
   "metadata": {},
   "source": [
    "Loading the data\n"
   ]
  },
  {
   "cell_type": "code",
   "execution_count": null,
   "metadata": {
    "execution": {
     "iopub.execute_input": "2023-04-16T15:30:30.159526Z",
     "iopub.status.busy": "2023-04-16T15:30:30.15892Z",
     "iopub.status.idle": "2023-04-16T15:30:30.2222Z",
     "shell.execute_reply": "2023-04-16T15:30:30.220889Z",
     "shell.execute_reply.started": "2023-04-16T15:30:30.159477Z"
    }
   },
   "outputs": [],
   "source": [
    "data = pd.read_csv('phishing.csv')\n",
    "data.head()"
   ]
  },
  {
   "cell_type": "code",
   "execution_count": null,
   "metadata": {
    "execution": {
     "iopub.execute_input": "2023-04-16T15:30:30.226782Z",
     "iopub.status.busy": "2023-04-16T15:30:30.226191Z",
     "iopub.status.idle": "2023-04-16T15:30:30.234119Z",
     "shell.execute_reply": "2023-04-16T15:30:30.232846Z",
     "shell.execute_reply.started": "2023-04-16T15:30:30.226743Z"
    }
   },
   "outputs": [],
   "source": [
    "data.columns"
   ]
  },
  {
   "cell_type": "code",
   "execution_count": null,
   "metadata": {
    "execution": {
     "iopub.execute_input": "2023-04-16T15:30:30.236554Z",
     "iopub.status.busy": "2023-04-16T15:30:30.235917Z",
     "iopub.status.idle": "2023-04-16T15:30:30.247195Z",
     "shell.execute_reply": "2023-04-16T15:30:30.246067Z",
     "shell.execute_reply.started": "2023-04-16T15:30:30.236514Z"
    }
   },
   "outputs": [],
   "source": [
    "len(data.columns)"
   ]
  },
  {
   "cell_type": "code",
   "execution_count": null,
   "metadata": {
    "execution": {
     "iopub.execute_input": "2023-04-16T15:30:30.248866Z",
     "iopub.status.busy": "2023-04-16T15:30:30.248479Z",
     "iopub.status.idle": "2023-04-16T15:30:30.263966Z",
     "shell.execute_reply": "2023-04-16T15:30:30.262649Z",
     "shell.execute_reply.started": "2023-04-16T15:30:30.248822Z"
    }
   },
   "outputs": [],
   "source": [
    "data.isnull().sum()"
   ]
  },
  {
   "cell_type": "markdown",
   "metadata": {},
   "source": [
    "Data doesnt have any Null values. "
   ]
  },
  {
   "cell_type": "markdown",
   "metadata": {},
   "source": [
    "#### Input and Predictor"
   ]
  },
  {
   "cell_type": "code",
   "execution_count": null,
   "metadata": {
    "execution": {
     "iopub.execute_input": "2023-04-16T15:30:30.266158Z",
     "iopub.status.busy": "2023-04-16T15:30:30.265381Z",
     "iopub.status.idle": "2023-04-16T15:30:30.273777Z",
     "shell.execute_reply": "2023-04-16T15:30:30.272285Z",
     "shell.execute_reply.started": "2023-04-16T15:30:30.266118Z"
    }
   },
   "outputs": [],
   "source": [
    "X = data.drop([\"class\",\"Index\"],axis =1)\n",
    "y = data[\"class\"]"
   ]
  },
  {
   "cell_type": "markdown",
   "metadata": {},
   "source": [
    "## Correlation Analysis"
   ]
  },
  {
   "cell_type": "code",
   "execution_count": null,
   "metadata": {
    "execution": {
     "iopub.execute_input": "2023-04-16T15:30:30.277123Z",
     "iopub.status.busy": "2023-04-16T15:30:30.276618Z",
     "iopub.status.idle": "2023-04-16T15:30:35.107352Z",
     "shell.execute_reply": "2023-04-16T15:30:35.106338Z",
     "shell.execute_reply.started": "2023-04-16T15:30:30.277052Z"
    }
   },
   "outputs": [],
   "source": [
    "fig, ax = plt.subplots(1, 1, figsize=(15, 9))\n",
    "sns.heatmap(data.corr(), annot=True,cmap='viridis')\n",
    "plt.title('Correlation between different features', fontsize = 15, c='black')\n",
    "plt.show()\n"
   ]
  },
  {
   "cell_type": "code",
   "execution_count": null,
   "metadata": {
    "execution": {
     "iopub.execute_input": "2023-04-16T15:30:35.111851Z",
     "iopub.status.busy": "2023-04-16T15:30:35.110863Z",
     "iopub.status.idle": "2023-04-16T15:30:35.171598Z",
     "shell.execute_reply": "2023-04-16T15:30:35.170409Z",
     "shell.execute_reply.started": "2023-04-16T15:30:35.111804Z"
    }
   },
   "outputs": [],
   "source": [
    "corr=data.corr()\n",
    "corr.head()"
   ]
  },
  {
   "cell_type": "code",
   "execution_count": null,
   "metadata": {
    "execution": {
     "iopub.execute_input": "2023-04-16T15:30:35.176393Z",
     "iopub.status.busy": "2023-04-16T15:30:35.176023Z",
     "iopub.status.idle": "2023-04-16T15:30:35.204827Z",
     "shell.execute_reply": "2023-04-16T15:30:35.203787Z",
     "shell.execute_reply.started": "2023-04-16T15:30:35.176358Z"
    }
   },
   "outputs": [],
   "source": [
    "corr['class']=abs(corr['class'])\n",
    "corr.head()"
   ]
  },
  {
   "cell_type": "code",
   "execution_count": null,
   "metadata": {
    "execution": {
     "iopub.execute_input": "2023-04-16T15:30:35.20789Z",
     "iopub.status.busy": "2023-04-16T15:30:35.206904Z",
     "iopub.status.idle": "2023-04-16T15:30:35.238358Z",
     "shell.execute_reply": "2023-04-16T15:30:35.237055Z",
     "shell.execute_reply.started": "2023-04-16T15:30:35.207833Z"
    }
   },
   "outputs": [],
   "source": [
    "incCorr=corr.sort_values(by='class',ascending=False)\n",
    "incCorr.head()"
   ]
  },
  {
   "cell_type": "markdown",
   "metadata": {},
   "source": [
    "### Decreasing order of Columns with respect to correlation"
   ]
  },
  {
   "cell_type": "code",
   "execution_count": null,
   "metadata": {
    "execution": {
     "iopub.execute_input": "2023-04-16T15:30:35.240057Z",
     "iopub.status.busy": "2023-04-16T15:30:35.239674Z",
     "iopub.status.idle": "2023-04-16T15:30:35.254858Z",
     "shell.execute_reply": "2023-04-16T15:30:35.253362Z",
     "shell.execute_reply.started": "2023-04-16T15:30:35.240018Z"
    }
   },
   "outputs": [],
   "source": [
    "incCorr['class']"
   ]
  },
  {
   "cell_type": "markdown",
   "metadata": {},
   "source": [
    "#### Selection Top N features with respect to correlation"
   ]
  },
  {
   "cell_type": "code",
   "execution_count": null,
   "metadata": {
    "execution": {
     "iopub.execute_input": "2023-04-16T15:30:35.256947Z",
     "iopub.status.busy": "2023-04-16T15:30:35.25653Z",
     "iopub.status.idle": "2023-04-16T15:30:35.274258Z",
     "shell.execute_reply": "2023-04-16T15:30:35.272527Z",
     "shell.execute_reply.started": "2023-04-16T15:30:35.256906Z"
    }
   },
   "outputs": [],
   "source": [
    "tenfeatures=incCorr[1:11].index\n",
    "twenfeatures=incCorr[1:21].index"
   ]
  },
  {
   "cell_type": "code",
   "execution_count": null,
   "metadata": {
    "execution": {
     "iopub.execute_input": "2023-04-16T15:30:35.276917Z",
     "iopub.status.busy": "2023-04-16T15:30:35.275882Z",
     "iopub.status.idle": "2023-04-16T15:30:35.294821Z",
     "shell.execute_reply": "2023-04-16T15:30:35.293072Z",
     "shell.execute_reply.started": "2023-04-16T15:30:35.276854Z"
    }
   },
   "outputs": [],
   "source": [
    "#Structutre to Store metrics\n",
    "ML_Model = []\n",
    "accuracy = []\n",
    "f1_score = []\n",
    "precision = []\n",
    "\n",
    "def storeResults(model, a,b,c):\n",
    "  ML_Model.append(model)\n",
    "  accuracy.append(round(a, 3))\n",
    "  f1_score.append(round(b, 3))\n",
    "  precision.append(round(c, 3))"
   ]
  },
  {
   "cell_type": "markdown",
   "metadata": {},
   "source": [
    "# KNN (Non Learning Based)"
   ]
  },
  {
   "cell_type": "markdown",
   "metadata": {},
   "source": [
    "Finding Optimal Value of K"
   ]
  },
  {
   "cell_type": "code",
   "execution_count": null,
   "metadata": {
    "execution": {
     "iopub.execute_input": "2023-04-16T15:30:35.298224Z",
     "iopub.status.busy": "2023-04-16T15:30:35.296875Z",
     "iopub.status.idle": "2023-04-16T15:30:35.31317Z",
     "shell.execute_reply": "2023-04-16T15:30:35.311795Z",
     "shell.execute_reply.started": "2023-04-16T15:30:35.298167Z"
    }
   },
   "outputs": [],
   "source": [
    "def KNN(X):\n",
    "  x=[a for a in range(1,10,2)]\n",
    "  knntrain=[]\n",
    "  knntest=[]\n",
    "  from sklearn.model_selection import train_test_split\n",
    "  X_train, X_test, y_train, y_test = train_test_split(X, y, test_size = 0.2, random_state = 42)\n",
    "  X_train.shape, y_train.shape, X_test.shape, y_test.shape\n",
    "  for i in range(1,10,2):\n",
    "    from sklearn.neighbors import KNeighborsClassifier\n",
    "    knn = KNeighborsClassifier(n_neighbors=i)\n",
    "    knn.fit(X_train,y_train)\n",
    "    y_train_knn = knn.predict(X_train)\n",
    "    y_test_knn = knn.predict(X_test)\n",
    "    acc_train_knn = metrics.accuracy_score(y_train,y_train_knn)\n",
    "    acc_test_knn = metrics.accuracy_score(y_test,y_test_knn)\n",
    "    print(\"K-Nearest Neighbors with k={}: Accuracy on training Data: {:.3f}\".format(i,acc_train_knn))\n",
    "    print(\"K-Nearest Neighbors with k={}: Accuracy on test Data: {:.3f}\".format(i,acc_test_knn))\n",
    "    knntrain.append(acc_train_knn)\n",
    "    knntest.append(acc_test_knn)\n",
    "    print()\n",
    "  import matplotlib.pyplot as plt\n",
    "  plt.plot(x,knntrain,label=\"Train accuracy\")\n",
    "  plt.plot(x,knntest,label=\"Test accuracy\")\n",
    "  plt.legend()\n",
    "  plt.show()"
   ]
  },
  {
   "cell_type": "code",
   "execution_count": null,
   "metadata": {
    "execution": {
     "iopub.execute_input": "2023-04-16T15:30:35.315956Z",
     "iopub.status.busy": "2023-04-16T15:30:35.315071Z",
     "iopub.status.idle": "2023-04-16T15:30:45.613335Z",
     "shell.execute_reply": "2023-04-16T15:30:45.611923Z",
     "shell.execute_reply.started": "2023-04-16T15:30:35.315898Z"
    }
   },
   "outputs": [],
   "source": [
    "Xmain=X\n",
    "Xten=X[tenfeatures]\n",
    "Xtwen=X[twenfeatures]\n",
    "\n",
    "KNN(Xmain)"
   ]
  },
  {
   "cell_type": "markdown",
   "metadata": {},
   "source": [
    "As K value increases, Accuracy keeps on decreasing. With K as 1 giving maximum accuracy, it will overfit"
   ]
  },
  {
   "cell_type": "markdown",
   "metadata": {},
   "source": [
    "### X with top ten features"
   ]
  },
  {
   "cell_type": "code",
   "execution_count": null,
   "metadata": {
    "execution": {
     "iopub.execute_input": "2023-04-16T15:30:45.614807Z",
     "iopub.status.busy": "2023-04-16T15:30:45.614447Z",
     "iopub.status.idle": "2023-04-16T15:30:49.444393Z",
     "shell.execute_reply": "2023-04-16T15:30:49.443077Z",
     "shell.execute_reply.started": "2023-04-16T15:30:45.614744Z"
    }
   },
   "outputs": [],
   "source": [
    "KNN(Xten)"
   ]
  },
  {
   "cell_type": "markdown",
   "metadata": {},
   "source": [
    "The difference between the train and test accuracy is the lesser compared with X with all features and X with twenty features. It is good fit"
   ]
  },
  {
   "cell_type": "markdown",
   "metadata": {},
   "source": [
    "#### X with top twenty features"
   ]
  },
  {
   "cell_type": "code",
   "execution_count": null,
   "metadata": {
    "execution": {
     "iopub.execute_input": "2023-04-16T15:30:49.446759Z",
     "iopub.status.busy": "2023-04-16T15:30:49.445585Z",
     "iopub.status.idle": "2023-04-16T15:30:59.664537Z",
     "shell.execute_reply": "2023-04-16T15:30:59.663173Z",
     "shell.execute_reply.started": "2023-04-16T15:30:49.446721Z"
    }
   },
   "outputs": [],
   "source": [
    "KNN(Xtwen)"
   ]
  },
  {
   "cell_type": "markdown",
   "metadata": {},
   "source": [
    "As K value increases, Accuracy keeps on decreasing. With K as 1 giving maximum accuracy, it will overfit"
   ]
  },
  {
   "cell_type": "markdown",
   "metadata": {},
   "source": [
    "#### K=5, X[ten] has given best accuracy. But it didnt exploit most of the features which may lead to underfit\n",
    "### Note\n",
    "***The value of k in the KNN algorithm is related to the error rate of the model. A small value of K could lead to overfitting as well as a big value of k can lead to underfitting***<hr>\n"
   ]
  },
  {
   "cell_type": "code",
   "execution_count": null,
   "metadata": {
    "execution": {
     "iopub.execute_input": "2023-04-16T15:49:34.474103Z",
     "iopub.status.busy": "2023-04-16T15:49:34.473687Z",
     "iopub.status.idle": "2023-04-16T15:49:36.640168Z",
     "shell.execute_reply": "2023-04-16T15:49:36.638843Z",
     "shell.execute_reply.started": "2023-04-16T15:49:34.474065Z"
    }
   },
   "outputs": [],
   "source": [
    "from sklearn.model_selection import train_test_split\n",
    "from sklearn.neighbors import KNeighborsClassifier\n",
    "X_train, X_test, y_train, y_test = train_test_split(X, y, test_size = 0.2, random_state = 42)\n",
    "X_train.shape, y_train.shape, X_test.shape, y_test.shape\n",
    "\n",
    "knn = KNeighborsClassifier(n_neighbors=5)\n",
    "knn.fit(X_train,y_train)\n",
    "\n",
    "y_train_knn = knn.predict(X_train)\n",
    "y_test_knn = knn.predict(X_test)\n",
    "\n",
    "acc_train_knn = metrics.accuracy_score(y_train,y_train_knn)\n",
    "acc_test_knn = metrics.accuracy_score(y_test,y_test_knn)\n",
    "\n",
    "f1_score_train_knn = metrics.f1_score(y_train,y_train_knn)\n",
    "f1_score_test_knn = metrics.f1_score(y_test,y_test_knn)\n",
    "\n",
    "precision_score_train_knn = metrics.precision_score(y_train,y_train_knn)\n",
    "precision_score_test_knn = metrics.precision_score(y_test,y_test_knn)"
   ]
  },
  {
   "cell_type": "code",
   "execution_count": null,
   "metadata": {
    "execution": {
     "iopub.execute_input": "2023-04-16T15:49:39.44682Z",
     "iopub.status.busy": "2023-04-16T15:49:39.44637Z",
     "iopub.status.idle": "2023-04-16T15:49:39.45278Z",
     "shell.execute_reply": "2023-04-16T15:49:39.451186Z",
     "shell.execute_reply.started": "2023-04-16T15:49:39.446761Z"
    }
   },
   "outputs": [],
   "source": [
    "storeResults('K-Nearest Neighbors',acc_test_knn,f1_score_test_knn,precision_score_train_knn)"
   ]
  },
  {
   "cell_type": "markdown",
   "metadata": {},
   "source": [
    "# SVM"
   ]
  },
  {
   "cell_type": "code",
   "execution_count": null,
   "metadata": {
    "execution": {
     "iopub.execute_input": "2023-04-16T15:49:59.516727Z",
     "iopub.status.busy": "2023-04-16T15:49:59.51631Z",
     "iopub.status.idle": "2023-04-16T15:49:59.527827Z",
     "shell.execute_reply": "2023-04-16T15:49:59.526344Z",
     "shell.execute_reply.started": "2023-04-16T15:49:59.516685Z"
    }
   },
   "outputs": [],
   "source": [
    "def SVM(X, y):\n",
    "    x=[a for a in range(1,10,2)]\n",
    "    svmtrain=[]\n",
    "    svmtest=[]\n",
    "    from sklearn.model_selection import train_test_split\n",
    "    X_train, X_test, y_train, y_test = train_test_split(X, y, test_size = 0.2, random_state = 42)\n",
    "    X_train.shape, y_train.shape, X_test.shape, y_test.shape\n",
    "    from sklearn.svm import SVC\n",
    "    for i in range(1,10,2):\n",
    "        svm = SVC(kernel='linear', C=i)\n",
    "        svm.fit(X_train, y_train)\n",
    "        y_train_svm = svm.predict(X_train)\n",
    "        y_test_svm = svm.predict(X_test)\n",
    "        acc_train_svm = metrics.accuracy_score(y_train, y_train_svm)\n",
    "        acc_test_svm = metrics.accuracy_score(y_test, y_test_svm)\n",
    "        print(\"SVM with C={}: Accuracy on training Data: {:.3f}\".format(i,acc_train_svm))\n",
    "        print(\"SVM with C={}: Accuracy on test Data: {:.3f}\".format(i,acc_test_svm))\n",
    "        svmtrain.append(acc_train_svm)\n",
    "        svmtest.append(acc_test_svm)\n",
    "        print()\n",
    "    import matplotlib.pyplot as plt\n",
    "    plt.plot(x,svmtrain,label=\"Train accuracy\")\n",
    "    plt.plot(x,svmtest,label=\"Test accuracy\")\n",
    "    plt.legend()\n",
    "    plt.show()\n"
   ]
  },
  {
   "cell_type": "code",
   "execution_count": null,
   "metadata": {
    "execution": {
     "iopub.execute_input": "2023-04-16T15:50:06.269704Z",
     "iopub.status.busy": "2023-04-16T15:50:06.269287Z",
     "iopub.status.idle": "2023-04-16T15:50:28.395048Z",
     "shell.execute_reply": "2023-04-16T15:50:28.393899Z",
     "shell.execute_reply.started": "2023-04-16T15:50:06.26966Z"
    }
   },
   "outputs": [],
   "source": [
    "Xmain=X\n",
    "Xten=X[tenfeatures]\n",
    "Xtwen=X[twenfeatures]\n",
    "\n",
    "SVM(Xmain,y)"
   ]
  },
  {
   "cell_type": "code",
   "execution_count": null,
   "metadata": {
    "execution": {
     "iopub.execute_input": "2023-04-16T15:51:20.626859Z",
     "iopub.status.busy": "2023-04-16T15:51:20.625541Z",
     "iopub.status.idle": "2023-04-16T15:51:30.899056Z",
     "shell.execute_reply": "2023-04-16T15:51:30.897653Z",
     "shell.execute_reply.started": "2023-04-16T15:51:20.626773Z"
    }
   },
   "outputs": [],
   "source": [
    "SVM(Xten,y)"
   ]
  },
  {
   "cell_type": "code",
   "execution_count": null,
   "metadata": {
    "execution": {
     "iopub.execute_input": "2023-04-16T15:51:00.624407Z",
     "iopub.status.busy": "2023-04-16T15:51:00.623712Z",
     "iopub.status.idle": "2023-04-16T15:51:17.287823Z",
     "shell.execute_reply": "2023-04-16T15:51:17.286286Z",
     "shell.execute_reply.started": "2023-04-16T15:51:00.624364Z"
    }
   },
   "outputs": [],
   "source": [
    "SVM(Xtwen,y)"
   ]
  },
  {
   "cell_type": "code",
   "execution_count": null,
   "metadata": {
    "execution": {
     "iopub.execute_input": "2023-04-16T15:51:55.753867Z",
     "iopub.status.busy": "2023-04-16T15:51:55.753433Z",
     "iopub.status.idle": "2023-04-16T15:51:58.369656Z",
     "shell.execute_reply": "2023-04-16T15:51:58.368326Z",
     "shell.execute_reply.started": "2023-04-16T15:51:55.753823Z"
    }
   },
   "outputs": [],
   "source": [
    "from sklearn.model_selection import train_test_split\n",
    "from sklearn.svm import SVC\n",
    "from sklearn import metrics\n",
    "\n",
    "\n",
    "X_train, X_test, y_train, y_test = train_test_split(X, y, test_size=0.2, random_state=42)\n",
    "\n",
    "svm = SVC(kernel='linear', C=1, random_state=42)\n",
    "svm.fit(X_train, y_train)\n",
    "\n",
    "\n",
    "y_train_svm = svm.predict(X_train)\n",
    "y_test_svm = svm.predict(X_test)\n",
    "\n",
    "\n",
    "acc_train_svm = metrics.accuracy_score(y_train, y_train_svm)\n",
    "acc_test_svm = metrics.accuracy_score(y_test, y_test_svm)\n",
    "\n",
    "f1_score_train_svm = metrics.f1_score(y_train, y_train_svm)\n",
    "f1_score_test_svm = metrics.f1_score(y_test, y_test_svm)\n",
    "\n",
    "precision_score_train_svm = metrics.precision_score(y_train, y_train_svm)\n",
    "precision_score_test_svm = metrics.precision_score(y_test, y_test_svm)\n",
    "\n",
    "print(\"SVM with C={}: Accuracy on training data: {:.3f}\".format(1, acc_train_svm))\n",
    "print(\"SVM with C={}: Accuracy on test data: {:.3f}\".format(1, acc_test_svm))\n",
    "print(\"SVM with C={}: F1 score on training data: {:.3f}\".format(1, f1_score_train_svm))\n",
    "print(\"SVM with C={}: F1 score on test data: {:.3f}\".format(1, f1_score_test_svm))\n",
    "print(\"SVM with C={}: Precision on training data: {:.3f}\".format(1, precision_score_train_svm))\n",
    "print(\"SVM with C={}: Precision on test data: {:.3f}\".format(1, precision_score_test_svm))\n"
   ]
  },
  {
   "cell_type": "code",
   "execution_count": null,
   "metadata": {
    "execution": {
     "iopub.execute_input": "2023-04-16T15:52:24.052641Z",
     "iopub.status.busy": "2023-04-16T15:52:24.051614Z",
     "iopub.status.idle": "2023-04-16T15:52:24.058207Z",
     "shell.execute_reply": "2023-04-16T15:52:24.056895Z",
     "shell.execute_reply.started": "2023-04-16T15:52:24.05259Z"
    }
   },
   "outputs": [],
   "source": [
    "storeResults('Support Vector Machines',acc_test_svm,f1_score_test_svm,precision_score_train_svm)"
   ]
  },
  {
   "cell_type": "markdown",
   "metadata": {},
   "source": [
    "# Gradient Boost (Boosting Based)"
   ]
  },
  {
   "cell_type": "code",
   "execution_count": null,
   "metadata": {
    "execution": {
     "iopub.execute_input": "2023-04-16T15:53:21.125711Z",
     "iopub.status.busy": "2023-04-16T15:53:21.12522Z",
     "iopub.status.idle": "2023-04-16T15:53:21.141338Z",
     "shell.execute_reply": "2023-04-16T15:53:21.139861Z",
     "shell.execute_reply.started": "2023-04-16T15:53:21.125668Z"
    }
   },
   "outputs": [],
   "source": [
    "from sklearn.model_selection import train_test_split\n",
    "X_train, X_test, y_train, y_test = train_test_split(X, y, test_size = 0.2, random_state = 42)\n",
    "X_train.shape, y_train.shape, X_test.shape, y_test.shape"
   ]
  },
  {
   "cell_type": "code",
   "execution_count": null,
   "metadata": {
    "execution": {
     "iopub.execute_input": "2023-04-16T15:54:00.359832Z",
     "iopub.status.busy": "2023-04-16T15:54:00.35937Z",
     "iopub.status.idle": "2023-04-16T15:54:01.619738Z",
     "shell.execute_reply": "2023-04-16T15:54:01.618469Z",
     "shell.execute_reply.started": "2023-04-16T15:54:00.359768Z"
    }
   },
   "outputs": [],
   "source": [
    "from sklearn.ensemble import GradientBoostingClassifier\n",
    "gbc = GradientBoostingClassifier(max_depth=4,learning_rate=0.7)\n",
    "gbc.fit(X_train,y_train)"
   ]
  },
  {
   "cell_type": "code",
   "execution_count": null,
   "metadata": {
    "execution": {
     "iopub.execute_input": "2023-04-16T15:54:08.888302Z",
     "iopub.status.busy": "2023-04-16T15:54:08.887544Z",
     "iopub.status.idle": "2023-04-16T15:54:08.93358Z",
     "shell.execute_reply": "2023-04-16T15:54:08.932113Z",
     "shell.execute_reply.started": "2023-04-16T15:54:08.888251Z"
    }
   },
   "outputs": [],
   "source": [
    "y_train_gbc = gbc.predict(X_train)\n",
    "y_test_gbc = gbc.predict(X_test)"
   ]
  },
  {
   "cell_type": "code",
   "execution_count": null,
   "metadata": {
    "execution": {
     "iopub.execute_input": "2023-04-16T15:54:15.5519Z",
     "iopub.status.busy": "2023-04-16T15:54:15.550806Z",
     "iopub.status.idle": "2023-04-16T15:54:15.575535Z",
     "shell.execute_reply": "2023-04-16T15:54:15.57401Z",
     "shell.execute_reply.started": "2023-04-16T15:54:15.551849Z"
    }
   },
   "outputs": [],
   "source": [
    "acc_train_gbc = metrics.accuracy_score(y_train,y_train_gbc)\n",
    "acc_test_gbc = metrics.accuracy_score(y_test,y_test_gbc)\n",
    "print(\"Gradient Boosting Classifier : Accuracy on training Data: {:.3f}\".format(acc_train_gbc))\n",
    "print(\"Gradient Boosting Classifier : Accuracy on test Data: {:.3f}\".format(acc_test_gbc))\n",
    "print()\n",
    "\n",
    "f1_score_train_gbc = metrics.f1_score(y_train,y_train_gbc)\n",
    "f1_score_test_gbc = metrics.f1_score(y_test,y_test_gbc)\n",
    "\n",
    "precision_score_train_gbc = metrics.precision_score(y_train,y_train_gbc)\n",
    "precision_score_test_gbc = metrics.precision_score(y_test,y_test_gbc)\n",
    "\n",
    "storeResults('Gradient Boosting Classifier',acc_test_gbc,f1_score_test_gbc,precision_score_train_gbc)\n"
   ]
  },
  {
   "cell_type": "markdown",
   "metadata": {},
   "source": [
    "Gradient Boost classifier has higher accuracy hence this model will be used hereafter"
   ]
  },
  {
   "cell_type": "markdown",
   "metadata": {},
   "source": [
    "# Comparision of Model Scores"
   ]
  },
  {
   "cell_type": "code",
   "execution_count": null,
   "metadata": {
    "execution": {
     "iopub.execute_input": "2023-04-16T15:55:03.734712Z",
     "iopub.status.busy": "2023-04-16T15:55:03.734285Z",
     "iopub.status.idle": "2023-04-16T15:55:04.080986Z",
     "shell.execute_reply": "2023-04-16T15:55:04.079717Z",
     "shell.execute_reply.started": "2023-04-16T15:55:03.734673Z"
    }
   },
   "outputs": [],
   "source": [
    "df = pd.DataFrame({\n",
    "    'Modelname': ML_Model,\n",
    "    'Accuracy Score': accuracy,\n",
    "    'F1 Score': f1_score,\n",
    "    'Precision Score': precision\n",
    "})\n",
    "df.set_index('Modelname', inplace=True)\n",
    "\n",
    "# plot the scores for each model\n",
    "\n",
    "fig, ax = plt.subplots(figsize=(10,10))\n",
    "df.plot(kind='bar', ax=ax)\n",
    "ax.set_xticklabels(df.index, rotation=0)\n",
    "ax.set_ylim([0.9, 1])\n",
    "ax.set_yticks([0.9,0.91,0.92,0.93,0.94,0.95,0.96,0.97,0.98,0.99,1])\n",
    "ax.set_xlabel('Model')\n",
    "ax.set_ylabel('Score')\n",
    "ax.set_title('Model Scores')\n",
    "plt.show()"
   ]
  }
 ],
 "metadata": {
  "kernelspec": {
   "display_name": "Python 3 (ipykernel)",
   "language": "python",
   "name": "python3"
  },
  "language_info": {
   "codemirror_mode": {
    "name": "ipython",
    "version": 3
   },
   "file_extension": ".py",
   "mimetype": "text/x-python",
   "name": "python",
   "nbconvert_exporter": "python",
   "pygments_lexer": "ipython3",
   "version": "3.8.10"
  }
 },
 "nbformat": 4,
 "nbformat_minor": 4
}
